{
 "cells": [
  {
   "cell_type": "markdown",
   "metadata": {},
   "source": [
    "\n",
    "# Katas del módulo 10\n"
   ]
  },
  {
   "cell_type": "markdown",
   "metadata": {},
   "source": [
    "### Tracebacks\n",
    "<hr>\n",
    "\n",
    "Si intentamos en un notebook, abrir un archivo inexistente sucede lo siguiente:\n",
    "\n",
    "![Imgur](https://i.imgur.com/NKfxgSL.jpg)\n"
   ]
  },
  {
   "cell_type": "markdown",
   "metadata": {},
   "source": [
    "\n",
    "\n",
    "Crear un archivo de Python con el nombre de ***open.py*** , agregar una función que abra un archivo inexistente y ejecutarlo para comprobar el mensaje de error.\n",
    "\n",
    "![Imgur](https://i.imgur.com/t50XlG2.jpg)"
   ]
  },
  {
   "cell_type": "markdown",
   "metadata": {},
   "source": [
    "### Controlando excepciones\n",
    "<hr>\n",
    "\n",
    "\n",
    "Crear un archivo de python con el nombre de ***config.py*** , crear un directorio con el nombre de ***config.txt*** . Ejecutamos el comando para abrir el archivo  ***config.py*** para ver un error nuevo.\n",
    "\n",
    "![Imgur](https://i.imgur.com/cM202kv.jpg)"
   ]
  },
  {
   "cell_type": "markdown",
   "metadata": {},
   "source": [
    "\n",
    "Implementaremos una manera no muy útil de controlar todas las excepciones posibles para evitar un traceback con el siguiente código:"
   ]
  },
  {
   "cell_type": "code",
   "execution_count": 2,
   "metadata": {},
   "outputs": [
    {
     "name": "stdout",
     "output_type": "stream",
     "text": [
      "Couldn't find the config.txt file!\n"
     ]
    }
   ],
   "source": [
    "\n",
    "def main():\n",
    "    try:\n",
    "        configuration = open('config.txt')\n",
    "    except Exception:\n",
    "        print(\"Couldn't find the config.txt file!\")\n",
    "\n",
    "if __name__ == '__main__':\n",
    "    main()"
   ]
  },
  {
   "cell_type": "markdown",
   "metadata": {},
   "source": [
    "\n",
    "Ejecutamos el código en el mismo lugar donde existe el archivo ***config.txt*** con permisos incorrectos:\n",
    "\n",
    "![Imgur](https://i.imgur.com/EXvXm2E.jpg)"
   ]
  },
  {
   "cell_type": "markdown",
   "metadata": {},
   "source": [
    "\n",
    "Ahora corregiremos el código puesto que el mensaje de error es incorrecto, ya que el archivo existe pero no tiene permisos diferentes y Python no puede leerlo."
   ]
  },
  {
   "cell_type": "code",
   "execution_count": null,
   "metadata": {},
   "outputs": [],
   "source": [
    "def main():\n",
    "    try:\n",
    "        configuration = open('config.txt')\n",
    "    except FileNotFoundError:\n",
    "        print(\"Couldn't find the config.txt file!\")\n",
    "    except IsADirectoryError:\n",
    "        print(\"Found config.txt but it is a directory, couldn't read it\")\n",
    "\n",
    "if __name__ == '__main__':\n",
    "    main()"
   ]
  },
  {
   "cell_type": "markdown",
   "metadata": {},
   "source": [
    "![Imgur](https://i.imgur.com/7gjMUWn.jpg)\n",
    "\n",
    "Eliminamos el archivo ***config.txt*** para asegurarnos de que se alcanza el primer bloque ```except``` en su lugar:\n",
    "\n",
    "![Imgur](https://i.imgur.com/K84TD5p.jpg)\n"
   ]
  },
  {
   "cell_type": "markdown",
   "metadata": {},
   "source": [
    "\n",
    "### Generación de excepciones\n",
    "<hr>\n",
    "\n",
    "Los astronautas limitan su uso de agua a unos 11 litros al día. Vamos a crear una función que, con base al número de astronautas, pueda calcular la cantidad de agua quedará después de un día o más, después probemos con cinco astronautas, 100 litros de agua sobrante y dos días:\n",
    "\n",
    "![Imgur](https://i.imgur.com/7OTbuZR.jpg)"
   ]
  },
  {
   "cell_type": "markdown",
   "metadata": {},
   "source": [
    "\n",
    "generar una excepción en la función ```water_left()``` para alertar de la condición de error:\n",
    "\n",
    "![Imgur](https://i.imgur.com/noohA4Y.jpg)"
   ]
  },
  {
   "cell_type": "markdown",
   "metadata": {},
   "source": [
    "\n",
    "La función ```water_left()``` también se puede actualizar para evitar el paso de tipos no admitidos. Intentemos pasar argumentos que no sean enteros para comprobar la salida de error:\n",
    "\n",
    "![Imgur](https://i.imgur.com/fvHqgeX.jpg)"
   ]
  },
  {
   "cell_type": "markdown",
   "metadata": {},
   "source": [
    "El error de ```TypeError``` no es muy descriptivo en el contexto de lo que espera la función. Actualizaremos la función para que use ```TypeError```, pero con un mensaje mejor:\n",
    "\n",
    "![Imgur](https://i.imgur.com/WUyrYcQ.jpg)"
   ]
  }
 ],
 "metadata": {
  "interpreter": {
   "hash": "aee8b7b246df8f9039afb4144a1f6fd8d2ca17a180786b69acc140d282b71a49"
  },
  "kernelspec": {
   "display_name": "Python 3.9.0 64-bit",
   "language": "python",
   "name": "python3"
  },
  "language_info": {
   "codemirror_mode": {
    "name": "ipython",
    "version": 3
   },
   "file_extension": ".py",
   "mimetype": "text/x-python",
   "name": "python",
   "nbconvert_exporter": "python",
   "pygments_lexer": "ipython3",
   "version": "3.9.0"
  },
  "orig_nbformat": 4
 },
 "nbformat": 4,
 "nbformat_minor": 2
}
